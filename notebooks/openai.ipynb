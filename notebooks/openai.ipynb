{
 "cells": [
  {
   "cell_type": "code",
   "execution_count": null,
   "metadata": {},
   "outputs": [],
   "source": [
    "# Generate reports\n",
    "\n",
    "from dotenv import dotenv_values\n",
    "import os\n",
    "from radis.core.utils.report_generator import ReportGenerator\n",
    "\n",
    "config = {\n",
    "    **dotenv_values(\"../.env.dev\"),\n",
    "    **os.environ,\n",
    "}\n",
    "\n",
    "api_key = config[\"OPENAI_API_KEY\"]\n",
    "\n",
    "generator = ReportGenerator(api_key)\n",
    "\n",
    "reports = generator.generate_reports(10)\n",
    "\n",
    "reports"
   ]
  },
  {
   "cell_type": "code",
   "execution_count": null,
   "metadata": {},
   "outputs": [],
   "source": [
    "# Clean report texts\n",
    "\n",
    "import re\n",
    "\n",
    "items = reports.copy()\n",
    "\n",
    "lines_to_strip = [\n",
    "    \"Radiology Report\",\n",
    "    \"Patient Information:\",\n",
    "    \"Referring Physician:\",\n",
    "    \"Patient:\",\n",
    "    \"Patient ID:\"\n",
    "    \"Patient Name:\",\n",
    "    \"Name:\",\n",
    "    \"Date of Birth:\",\n",
    "    \"Gender:\",\n",
    "    \"Age:\",\n",
    "    \"Note:\",\n",
    "    \"Signed:\",\n",
    "    \"Date:\"\n",
    "]\n",
    "for line_start in lines_to_strip:\n",
    "    items = [re.sub(fr\"{line_start}.*\\n\", \"\", item) for item in items]\n",
    "\n",
    "items = [item.strip() for item in items]\n",
    "\n",
    "items\n"
   ]
  },
  {
   "cell_type": "code",
   "execution_count": null,
   "metadata": {},
   "outputs": [],
   "source": [
    "# Save reports to json file\n",
    "\n",
    "from pathlib import Path\n",
    "import json\n",
    "\n",
    "json_data = json.dumps(items, indent=4)\n",
    "\n",
    "with open(\"../samples/reports.json\", \"w\") as outfile:\n",
    "    outfile.write(json_data)\n"
   ]
  }
 ],
 "metadata": {
  "kernelspec": {
   "display_name": ".venv",
   "language": "python",
   "name": "python3"
  },
  "language_info": {
   "codemirror_mode": {
    "name": "ipython",
    "version": 3
   },
   "file_extension": ".py",
   "mimetype": "text/x-python",
   "name": "python",
   "nbconvert_exporter": "python",
   "pygments_lexer": "ipython3",
   "version": "3.11.1"
  },
  "orig_nbformat": 4
 },
 "nbformat": 4,
 "nbformat_minor": 2
}
