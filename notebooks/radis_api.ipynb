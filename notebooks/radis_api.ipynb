{
 "cells": [
  {
   "cell_type": "code",
   "execution_count": null,
   "metadata": {},
   "outputs": [],
   "source": [
    "import os\n",
    "from datetime import date, datetime\n",
    "\n",
    "import requests\n",
    "from dotenv import load_dotenv\n",
    "from IPython.display import display\n",
    "\n",
    "load_dotenv(\"../.env.dev\")\n",
    "\n",
    "base_url = \"http://localhost:8000/api/\"\n",
    "\n",
    "token = os.environ[\"ADMIN_AUTH_TOKEN\"]\n",
    "\n",
    "document_id = \"gepacs_3dfidii5858-6633i4-ii398841\""
   ]
  },
  {
   "cell_type": "code",
   "execution_count": null,
   "metadata": {},
   "outputs": [],
   "source": [
    "# Create a new report\n",
    "\n",
    "data = {\n",
    "    \"document_id\": document_id,\n",
    "    \"language\": \"en\",\n",
    "    \"groups\": [2],\n",
    "    \"pacs_aet\": \"gepacs\",\n",
    "    \"pacs_name\": \"GE PACS\",\n",
    "    \"pacs_link\": \"http://gepacs.com/34343-34343-34343\",\n",
    "    \"patient_id\": \"1234578\",\n",
    "    \"patient_birth_date\": date(1976, 5, 23).isoformat(),\n",
    "    \"patient_sex\": \"M\",\n",
    "    \"study_description\": \"CT of the Thorax\",\n",
    "    \"study_datetime\": datetime(2000, 8, 10).isoformat(),\n",
    "    \"modalities\": [\"CT\", \"PET\"],\n",
    "    \"body\": \"This is the report\",\n",
    "    \"metadata\": {\n",
    "        \"study_instance_uid\": \"34343-34343-34343\",\n",
    "        \"accession_number\": \"345348389\",\n",
    "        \"series_instance_uid\": \"34343-676556-3343\",\n",
    "        \"sop_instance_uid\": \"35858-384834-3843\",\n",
    "    },\n",
    "}\n",
    "\n",
    "response = requests.post(\n",
    "    base_url + \"reports/\", json=data, headers={\"Authorization\": f\"Token {token}\"}\n",
    ")\n",
    "\n",
    "print(f\"Status Code: {response.status_code}\")\n",
    "display(response.json())"
   ]
  },
  {
   "cell_type": "code",
   "execution_count": null,
   "metadata": {},
   "outputs": [],
   "source": [
    "# Update an existing report\n",
    "\n",
    "data = {\n",
    "    \"document_id\": \"gepacs_3dfidii5858-6633i4-ii398841\",\n",
    "    \"language\": \"en\",\n",
    "    \"groups\": [2],\n",
    "    \"pacs_aet\": \"gepacs\",\n",
    "    \"pacs_name\": \"GE PACS\",\n",
    "    \"pacs_link\": \"http://gepacs.com/34343-34343-34343\",\n",
    "    \"patient_id\": \"1234578\",\n",
    "    \"patient_birth_date\": date(1976, 5, 23).isoformat(),\n",
    "    \"patient_sex\": \"M\",\n",
    "    \"study_description\": \"CT of the Thorax\",\n",
    "    \"study_datetime\": datetime(2000, 8, 10).isoformat(),\n",
    "    \"modalities\": [\"CT\", \"PET\"],\n",
    "    \"body\": \"This is the updated report\",\n",
    "    \"metadata\": {\n",
    "        \"study_instance_uid\": \"34343-34343-34343\",\n",
    "        \"accession_number\": \"345348389\",\n",
    "        \"series_instance_uid\": \"34343-676556-3343\",\n",
    "        \"sop_instance_uid\": \"35858-384834-3843\",\n",
    "    },\n",
    "}\n",
    "\n",
    "response = requests.put(\n",
    "    base_url + f\"reports/{document_id}/\",\n",
    "    json=data,\n",
    "    headers={\"Authorization\": f\"Token {token}\"},\n",
    "    params={\"upsert\": False},\n",
    ")\n",
    "\n",
    "response.json()"
   ]
  },
  {
   "cell_type": "code",
   "execution_count": null,
   "metadata": {},
   "outputs": [],
   "source": [
    "# Fetch a report (without all document representations in full text search databases)\n",
    "\n",
    "response = requests.get(\n",
    "    base_url + f\"reports/{document_id}\",\n",
    "    headers={\"Authorization\": f\"Token {token}\"},\n",
    ")\n",
    "\n",
    "response.json()"
   ]
  },
  {
   "cell_type": "code",
   "execution_count": null,
   "metadata": {},
   "outputs": [],
   "source": [
    "# Fetch a report with all document representations in full text search databases\n",
    "\n",
    "response = requests.get(\n",
    "    base_url + f\"reports/{document_id}\",\n",
    "    headers={\"Authorization\": f\"Token {token}\"},\n",
    "    params={\"full\": True},\n",
    ")\n",
    "\n",
    "response.json()"
   ]
  },
  {
   "cell_type": "code",
   "execution_count": null,
   "metadata": {},
   "outputs": [],
   "source": [
    "# Delete a report\n",
    "\n",
    "response = requests.delete(\n",
    "    base_url + f\"reports/{document_id}\",\n",
    "    headers={\"Authorization\": f\"Token {token}\"},\n",
    ")\n",
    "print(response)"
   ]
  },
  {
   "cell_type": "code",
   "execution_count": null,
   "metadata": {},
   "outputs": [],
   "source": [
    "data = {\n",
    "    \"document_id\": \"gepacs_3dfidii5858-6633i4-ii398841\",\n",
    "    \"language\": \"en\",\n",
    "    \"groups\": [2],\n",
    "    \"pacs_aet\": \"gepacs\",\n",
    "    \"pacs_name\": \"GE PACS\",\n",
    "    \"pacs_link\": \"http://gepacs.com/34343-34343-34343\",\n",
    "    \"patient_id\": \"1234578\",\n",
    "    \"patient_birth_date\": date(1976, 5, 23).isoformat(),\n",
    "    \"patient_sex\": \"M\",\n",
    "    \"study_description\": \"CT of the Thorax\",\n",
    "    \"study_datetime\": datetime(2000, 8, 10).isoformat(),\n",
    "    \"modalities\": [\"CT\", \"PET\"],\n",
    "    \"body\": \"This is an upserted report\",\n",
    "    \"metadata\": {\n",
    "        \"study_instance_uid\": \"34343-34343-34343\",\n",
    "        \"accession_number\": \"345348389\",\n",
    "        \"series_instance_uid\": \"34343-676556-3343\",\n",
    "        \"sop_instance_uid\": \"35858-384834-3843\",\n",
    "    },\n",
    "}\n",
    "\n",
    "response = requests.put(\n",
    "    base_url + f\"reports/{document_id}/\",\n",
    "    json=data,\n",
    "    headers={\"Authorization\": f\"Token {token}\"},\n",
    "    params={\"upsert\": True},\n",
    ")\n",
    "\n",
    "response.json()"
   ]
  },
  {
   "cell_type": "code",
   "execution_count": null,
   "metadata": {},
   "outputs": [],
   "source": [
    "response = requests.delete(\n",
    "    base_url + f\"reports/{document_id}\",\n",
    "    headers={\"Authorization\": f\"Token {token}\"},\n",
    ")\n",
    "print(response)"
   ]
  }
 ],
 "metadata": {
  "kernelspec": {
   "display_name": ".venv",
   "language": "python",
   "name": "python3"
  },
  "language_info": {
   "codemirror_mode": {
    "name": "ipython",
    "version": 3
   },
   "file_extension": ".py",
   "mimetype": "text/x-python",
   "name": "python",
   "nbconvert_exporter": "python",
   "pygments_lexer": "ipython3",
   "version": "3.12.3"
  },
  "orig_nbformat": 4
 },
 "nbformat": 4,
 "nbformat_minor": 2
}
