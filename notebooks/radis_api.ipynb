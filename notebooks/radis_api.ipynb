{
 "cells": [
  {
   "cell_type": "code",
   "execution_count": 64,
   "metadata": {},
   "outputs": [],
   "source": [
    "from datetime import date, datetime\n",
    "\n",
    "import requests\n",
    "from IPython.display import display\n",
    "\n",
    "base_url = \"http://localhost:8000/api/\"\n",
    "\n",
    "document_id = \"gepacs_3dfidii5858-6633i4-ii398841\"\n",
    "auth_token = \"f2e7412ca332a85e37f3fce88c6a1904fe35ad63\""
   ]
  },
  {
   "cell_type": "code",
   "execution_count": 65,
   "metadata": {},
   "outputs": [
    {
     "name": "stdout",
     "output_type": "stream",
     "text": [
      "Status Code: 201\n"
     ]
    },
    {
     "data": {
      "text/plain": [
       "{'id': 109,\n",
       " 'metadata': {'study_instance_uid': '34343-34343-34343',\n",
       "  'accession_number': '345348389',\n",
       "  'series_instance_uid': '34343-676556-3343',\n",
       "  'sop_instance_uid': '35858-384834-3843'},\n",
       " 'modalities': ['CT', 'PET'],\n",
       " 'document_id': 'gepacs_3dfidii5858-6633i4-ii398841',\n",
       " 'language': 'en',\n",
       " 'pacs_aet': 'gepacs',\n",
       " 'pacs_name': 'GE PACS',\n",
       " 'patient_id': '1234578',\n",
       " 'patient_birth_date': '1976-05-23',\n",
       " 'patient_sex': 'M',\n",
       " 'study_description': 'CT of the Thorax',\n",
       " 'study_datetime': '2000-08-10T00:00:00+02:00',\n",
       " 'links': ['http://gepacs.com/34343-34343-34343'],\n",
       " 'body': 'This is the report',\n",
       " 'created_at': '2024-03-16T17:51:07.608466+01:00',\n",
       " 'updated_at': '2024-03-16T17:51:07.608474+01:00',\n",
       " 'groups': [2]}"
      ]
     },
     "metadata": {},
     "output_type": "display_data"
    }
   ],
   "source": [
    "# Create a new report\n",
    "\n",
    "data = {\n",
    "    \"document_id\": document_id,\n",
    "    \"language\": \"en\",\n",
    "    \"groups\": [2],\n",
    "    \"pacs_aet\": \"gepacs\",\n",
    "    \"pacs_name\": \"GE PACS\",\n",
    "    \"patient_id\": \"1234578\",\n",
    "    \"patient_birth_date\": date(1976, 5, 23).isoformat(),\n",
    "    \"patient_sex\": \"M\",\n",
    "    \"study_description\": \"CT of the Thorax\",\n",
    "    \"study_datetime\": datetime(2000, 8, 10).isoformat(),\n",
    "    \"modalities\": [\"CT\", \"PET\"],\n",
    "    \"links\": [\"http://gepacs.com/34343-34343-34343\"],\n",
    "    \"body\": \"This is the report\",\n",
    "    \"metadata\": {\n",
    "        \"study_instance_uid\": \"34343-34343-34343\",\n",
    "        \"accession_number\": \"345348389\",\n",
    "        \"series_instance_uid\": \"34343-676556-3343\",\n",
    "        \"sop_instance_uid\": \"35858-384834-3843\",\n",
    "    },\n",
    "}\n",
    "\n",
    "response = requests.post(\n",
    "    base_url + \"reports/\", json=data, headers={\"Authorization\": f\"Token {auth_token}\"}\n",
    ")\n",
    "\n",
    "print(f\"Status Code: {response.status_code}\")\n",
    "display(response.json())"
   ]
  },
  {
   "cell_type": "code",
   "execution_count": 66,
   "metadata": {},
   "outputs": [
    {
     "data": {
      "text/plain": [
       "{'id': 109,\n",
       " 'metadata': {'study_instance_uid': '34343-34343-34343',\n",
       "  'accession_number': '345348389',\n",
       "  'series_instance_uid': '34343-676556-3343',\n",
       "  'sop_instance_uid': '35858-384834-3843'},\n",
       " 'modalities': ['CT', 'PET'],\n",
       " 'document_id': 'gepacs_3dfidii5858-6633i4-ii398841',\n",
       " 'language': 'en',\n",
       " 'pacs_aet': 'gepacs',\n",
       " 'pacs_name': 'GE PACS',\n",
       " 'patient_id': '1234578',\n",
       " 'patient_birth_date': '1976-05-23',\n",
       " 'patient_sex': 'M',\n",
       " 'study_description': 'CT of the Thorax',\n",
       " 'study_datetime': '2000-08-10T00:00:00+02:00',\n",
       " 'links': ['http://gepacs.com/34343-34343-34343'],\n",
       " 'body': 'This is the report',\n",
       " 'created_at': '2024-03-16T17:51:07.608466+01:00',\n",
       " 'updated_at': '2024-03-16T17:51:07.608474+01:00',\n",
       " 'groups': [2]}"
      ]
     },
     "execution_count": 66,
     "metadata": {},
     "output_type": "execute_result"
    }
   ],
   "source": [
    "# Update an existing report\n",
    "\n",
    "data = {\n",
    "    \"document_id\": \"gepacs_3dfidii5858-6633i4-ii398841\",\n",
    "    \"language\": \"en\",\n",
    "    \"groups\": [2],\n",
    "    \"pacs_aet\": \"gepacs\",\n",
    "    \"pacs_name\": \"GE PACS\",\n",
    "    \"patient_id\": \"1234578\",\n",
    "    \"patient_birth_date\": date(1976, 5, 23).isoformat(),\n",
    "    \"patient_sex\": \"M\",\n",
    "    \"study_description\": \"CT of the Thorax\",\n",
    "    \"study_datetime\": datetime(2000, 8, 10).isoformat(),\n",
    "    \"modalities\": [\"CT\", \"PET\"],\n",
    "    \"links\": [\"http://gepacs.com/34343-34343-34343\"],\n",
    "    \"body\": \"This is the updated report\",\n",
    "    \"metadata\": {\n",
    "        \"study_instance_uid\": \"34343-34343-34343\",\n",
    "        \"accession_number\": \"345348389\",\n",
    "        \"series_instance_uid\": \"34343-676556-3343\",\n",
    "        \"sop_instance_uid\": \"35858-384834-3843\",\n",
    "    },\n",
    "}\n",
    "\n",
    "response = requests.put(\n",
    "    base_url + f\"reports/{document_id}/\",\n",
    "    json=data,\n",
    "    headers={\"Authorization\": f\"Token {auth_token}\"},\n",
    "    params={\"upsert\": False},\n",
    ")\n",
    "\n",
    "response.json()"
   ]
  },
  {
   "cell_type": "code",
   "execution_count": 67,
   "metadata": {},
   "outputs": [
    {
     "data": {
      "text/plain": [
       "{'id': 109,\n",
       " 'metadata': {'study_instance_uid': '34343-34343-34343',\n",
       "  'accession_number': '345348389',\n",
       "  'series_instance_uid': '34343-676556-3343',\n",
       "  'sop_instance_uid': '35858-384834-3843'},\n",
       " 'modalities': ['CT', 'PET'],\n",
       " 'document_id': 'gepacs_3dfidii5858-6633i4-ii398841',\n",
       " 'language': 'en',\n",
       " 'pacs_aet': 'gepacs',\n",
       " 'pacs_name': 'GE PACS',\n",
       " 'patient_id': '1234578',\n",
       " 'patient_birth_date': '1976-05-23',\n",
       " 'patient_sex': 'M',\n",
       " 'study_description': 'CT of the Thorax',\n",
       " 'study_datetime': '2000-08-10T00:00:00+02:00',\n",
       " 'links': ['http://gepacs.com/34343-34343-34343'],\n",
       " 'body': 'This is the report',\n",
       " 'created_at': '2024-03-16T17:51:07.608466+01:00',\n",
       " 'updated_at': '2024-03-16T17:51:07.608474+01:00',\n",
       " 'groups': [2]}"
      ]
     },
     "execution_count": 67,
     "metadata": {},
     "output_type": "execute_result"
    }
   ],
   "source": [
    "# Fetch a report (without all document representations in full text search databases)\n",
    "\n",
    "response = requests.get(\n",
    "    base_url + f\"reports/{document_id}\",\n",
    "    headers={\"Authorization\": f\"Token {auth_token}\"},\n",
    ")\n",
    "\n",
    "response.json()"
   ]
  },
  {
   "cell_type": "code",
   "execution_count": 68,
   "metadata": {},
   "outputs": [
    {
     "data": {
      "text/plain": [
       "{'id': 109,\n",
       " 'metadata': {'study_instance_uid': '34343-34343-34343',\n",
       "  'accession_number': '345348389',\n",
       "  'series_instance_uid': '34343-676556-3343',\n",
       "  'sop_instance_uid': '35858-384834-3843'},\n",
       " 'modalities': ['CT', 'PET'],\n",
       " 'document_id': 'gepacs_3dfidii5858-6633i4-ii398841',\n",
       " 'language': 'en',\n",
       " 'pacs_aet': 'gepacs',\n",
       " 'pacs_name': 'GE PACS',\n",
       " 'patient_id': '1234578',\n",
       " 'patient_birth_date': '1976-05-23',\n",
       " 'patient_sex': 'M',\n",
       " 'study_description': 'CT of the Thorax',\n",
       " 'study_datetime': '2000-08-10T00:00:00+02:00',\n",
       " 'links': ['http://gepacs.com/34343-34343-34343'],\n",
       " 'body': 'This is the report',\n",
       " 'created_at': '2024-03-16T17:51:07.608466+01:00',\n",
       " 'updated_at': '2024-03-16T17:51:07.608474+01:00',\n",
       " 'groups': [2],\n",
       " 'documents': {'vespa': {'pathId': '/document/v1/report/report/docid/gepacs_3dfidii5858-6633i4-ii398841',\n",
       "   'id': 'id:report:report::gepacs_3dfidii5858-6633i4-ii398841',\n",
       "   'fields': {'pacs_name': 'GE PACS',\n",
       "    'modalities': ['CT', 'PET'],\n",
       "    'document_id': 'gepacs_3dfidii5858-6633i4-ii398841',\n",
       "    'language': 'en',\n",
       "    'patient_birth_date': 201657600,\n",
       "    'body': 'This is the report',\n",
       "    'patient_sex': 'M',\n",
       "    'study_description': 'CT of the Thorax',\n",
       "    'groups': [2],\n",
       "    'patient_age': 24,\n",
       "    'links': ['http://gepacs.com/34343-34343-34343'],\n",
       "    'pacs_aet': 'gepacs',\n",
       "    'study_datetime': 965858400}}}}"
      ]
     },
     "execution_count": 68,
     "metadata": {},
     "output_type": "execute_result"
    }
   ],
   "source": [
    "# Fetch a report with all document representations in full text search databases\n",
    "\n",
    "response = requests.get(\n",
    "    base_url + f\"reports/{document_id}\",\n",
    "    headers={\"Authorization\": f\"Token {auth_token}\"},\n",
    "    params={\"full\": True},\n",
    ")\n",
    "\n",
    "response.json()"
   ]
  },
  {
   "cell_type": "code",
   "execution_count": 69,
   "metadata": {},
   "outputs": [
    {
     "name": "stdout",
     "output_type": "stream",
     "text": [
      "<Response [204]>\n"
     ]
    }
   ],
   "source": [
    "# Delete a report\n",
    "\n",
    "response = requests.delete(\n",
    "    base_url + f\"reports/{document_id}\",\n",
    "    headers={\"Authorization\": f\"Token {auth_token}\"},\n",
    ")\n",
    "print(response)"
   ]
  },
  {
   "cell_type": "code",
   "execution_count": 70,
   "metadata": {},
   "outputs": [
    {
     "data": {
      "text/plain": [
       "{'id': 110,\n",
       " 'metadata': {'study_instance_uid': '34343-34343-34343',\n",
       "  'accession_number': '345348389',\n",
       "  'series_instance_uid': '34343-676556-3343',\n",
       "  'sop_instance_uid': '35858-384834-3843'},\n",
       " 'modalities': ['CT', 'PET'],\n",
       " 'document_id': 'gepacs_3dfidii5858-6633i4-ii398841',\n",
       " 'language': 'en',\n",
       " 'pacs_aet': 'gepacs',\n",
       " 'pacs_name': 'GE PACS',\n",
       " 'patient_id': '1234578',\n",
       " 'patient_birth_date': '1976-05-23',\n",
       " 'patient_sex': 'M',\n",
       " 'study_description': 'CT of the Thorax',\n",
       " 'study_datetime': '2000-08-10T00:00:00+02:00',\n",
       " 'links': ['http://gepacs.com/34343-34343-34343'],\n",
       " 'body': 'This is an upserted report',\n",
       " 'created_at': '2024-03-16T17:51:10.458025+01:00',\n",
       " 'updated_at': '2024-03-16T17:51:10.458038+01:00',\n",
       " 'groups': [2]}"
      ]
     },
     "execution_count": 70,
     "metadata": {},
     "output_type": "execute_result"
    }
   ],
   "source": [
    "data = {\n",
    "    \"document_id\": \"gepacs_3dfidii5858-6633i4-ii398841\",\n",
    "    \"language\": \"en\",\n",
    "    \"groups\": [2],\n",
    "    \"pacs_aet\": \"gepacs\",\n",
    "    \"pacs_name\": \"GE PACS\",\n",
    "    \"patient_id\": \"1234578\",\n",
    "    \"patient_birth_date\": date(1976, 5, 23).isoformat(),\n",
    "    \"patient_sex\": \"M\",\n",
    "    \"study_description\": \"CT of the Thorax\",\n",
    "    \"study_datetime\": datetime(2000, 8, 10).isoformat(),\n",
    "    \"modalities\": [\"CT\", \"PET\"],\n",
    "    \"links\": [\"http://gepacs.com/34343-34343-34343\"],\n",
    "    \"body\": \"This is an upserted report\",\n",
    "    \"metadata\": {\n",
    "        \"study_instance_uid\": \"34343-34343-34343\",\n",
    "        \"accession_number\": \"345348389\",\n",
    "        \"series_instance_uid\": \"34343-676556-3343\",\n",
    "        \"sop_instance_uid\": \"35858-384834-3843\",\n",
    "    },\n",
    "}\n",
    "\n",
    "response = requests.put(\n",
    "    base_url + f\"reports/{document_id}/\",\n",
    "    json=data,\n",
    "    headers={\"Authorization\": f\"Token {auth_token}\"},\n",
    "    params={\"upsert\": True},\n",
    ")\n",
    "\n",
    "response.json()"
   ]
  },
  {
   "cell_type": "code",
   "execution_count": 71,
   "metadata": {},
   "outputs": [
    {
     "name": "stdout",
     "output_type": "stream",
     "text": [
      "<Response [204]>\n"
     ]
    }
   ],
   "source": [
    "response = requests.delete(\n",
    "    base_url + f\"reports/{document_id}\",\n",
    "    headers={\"Authorization\": f\"Token {auth_token}\"},\n",
    ")\n",
    "print(response)"
   ]
  }
 ],
 "metadata": {
  "kernelspec": {
   "display_name": ".venv",
   "language": "python",
   "name": "python3"
  },
  "language_info": {
   "codemirror_mode": {
    "name": "ipython",
    "version": 3
   },
   "file_extension": ".py",
   "mimetype": "text/x-python",
   "name": "python",
   "nbconvert_exporter": "python",
   "pygments_lexer": "ipython3",
   "version": "3.12.1"
  },
  "orig_nbformat": 4
 },
 "nbformat": 4,
 "nbformat_minor": 2
}
