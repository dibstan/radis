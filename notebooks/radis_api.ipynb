{
 "cells": [
  {
   "cell_type": "code",
   "execution_count": 1,
   "metadata": {},
   "outputs": [
    {
     "name": "stdout",
     "output_type": "stream",
     "text": [
      "Status Code: 201\n",
      "{'id': 101, 'document_id': 'gepacs_3dfidii5858-6633i4-ii398841', 'pacs_aet': 'gepacs', 'pacs_name': 'GE PACS', 'patient_id': '1234578', 'patient_birth_date': '1976-05-23', 'patient_sex': 'M', 'study_instance_uid': '34343-34343-34343', 'accession_number': '345348389', 'study_description': 'CT of the Thorax', 'study_datetime': '2000-08-10T00:00:00+02:00', 'series_instance_uid': '34343-676556-3343', 'modalities_in_study': ['CT', 'PET'], 'sop_instance_uid': '35858-384834-3843', 'references': ['http://gepacs.com/34343-34343-34343'], 'body': 'This is the report', 'groups': [2]}\n"
     ]
    }
   ],
   "source": [
    "from datetime import date, datetime\n",
    "\n",
    "import requests\n",
    "\n",
    "base_url = \"http://localhost:8000/api/\"\n",
    "\n",
    "document_id = \"gepacs_3dfidii5858-6633i4-ii398841\"\n",
    "\n",
    "data = {\n",
    "    \"document_id\": document_id,\n",
    "    \"groups\": [2],\n",
    "    \"pacs_aet\": \"gepacs\",\n",
    "    \"pacs_name\": \"GE PACS\",\n",
    "    \"patient_id\": \"1234578\",\n",
    "    \"patient_birth_date\": date(1976, 5, 23).isoformat(),\n",
    "    \"patient_sex\": \"M\",\n",
    "    \"study_instance_uid\": \"34343-34343-34343\",\n",
    "    \"accession_number\": \"345348389\",\n",
    "    \"study_description\": \"CT of the Thorax\",\n",
    "    \"study_datetime\": datetime(2000, 8, 10).isoformat(),\n",
    "    \"series_instance_uid\": \"34343-676556-3343\",\n",
    "    \"modalities_in_study\": [\"CT\", \"PET\"],\n",
    "    \"sop_instance_uid\": \"35858-384834-3843\",\n",
    "    \"links\": [\"http://gepacs.com/34343-34343-34343\"],\n",
    "    \"body\": \"This is the report\",\n",
    "}\n",
    "\n",
    "auth_token = \"f2e7412ca332a85e37f3fce88c6a1904fe35ad63\"\n",
    "response = requests.post(\n",
    "    base_url + \"reports/\", json=data, headers={\"Authorization\": f\"Token {auth_token}\"}\n",
    ")\n",
    "\n",
    "print(f\"Status Code: {response.status_code}\")\n",
    "print(response.json())"
   ]
  },
  {
   "cell_type": "code",
   "execution_count": 2,
   "metadata": {},
   "outputs": [
    {
     "data": {
      "text/plain": [
       "{'id': 101,\n",
       " 'document_id': 'gepacs_3dfidii5858-6633i4-ii398841',\n",
       " 'pacs_aet': 'gepacs',\n",
       " 'pacs_name': 'GE PACS',\n",
       " 'patient_id': '1234578',\n",
       " 'patient_birth_date': '1976-05-23',\n",
       " 'patient_sex': 'M',\n",
       " 'study_instance_uid': '34343-34343-34343',\n",
       " 'accession_number': '345348389',\n",
       " 'study_description': 'CT of the Thorax',\n",
       " 'study_datetime': '2000-08-10T00:00:00+02:00',\n",
       " 'series_instance_uid': '34343-676556-3343',\n",
       " 'modalities_in_study': ['CT', 'PET'],\n",
       " 'sop_instance_uid': '35858-384834-3843',\n",
       " 'references': ['http://gepacs.com/34343-34343-34343'],\n",
       " 'body': 'This is the updated report',\n",
       " 'groups': [2]}"
      ]
     },
     "execution_count": 2,
     "metadata": {},
     "output_type": "execute_result"
    }
   ],
   "source": [
    "data = {\n",
    "    \"document_id\": \"gepacs_3dfidii5858-6633i4-ii398841\",\n",
    "    \"groups\": [2],\n",
    "    \"pacs_aet\": \"gepacs\",\n",
    "    \"pacs_name\": \"GE PACS\",\n",
    "    \"patient_id\": \"1234578\",\n",
    "    \"patient_birth_date\": date(1976, 5, 23).isoformat(),\n",
    "    \"patient_sex\": \"M\",\n",
    "    \"study_instance_uid\": \"34343-34343-34343\",\n",
    "    \"accession_number\": \"345348389\",\n",
    "    \"study_description\": \"CT of the Thorax\",\n",
    "    \"study_datetime\": datetime(2000, 8, 10).isoformat(),\n",
    "    \"series_instance_uid\": \"34343-676556-3343\",\n",
    "    \"modalities_in_study\": [\"CT\", \"PET\"],\n",
    "    \"sop_instance_uid\": \"35858-384834-3843\",\n",
    "    \"links\": [\"http://gepacs.com/34343-34343-34343\"],\n",
    "    \"body\": \"This is the updated report\",\n",
    "}\n",
    "\n",
    "response = requests.put(\n",
    "    base_url + f\"reports/{document_id}/\",\n",
    "    json=data,\n",
    "    headers={\"Authorization\": f\"Token {auth_token}\"},\n",
    ")\n",
    "\n",
    "response.json()"
   ]
  },
  {
   "cell_type": "code",
   "execution_count": 3,
   "metadata": {},
   "outputs": [
    {
     "data": {
      "text/plain": [
       "{'id': 101,\n",
       " 'document_id': 'gepacs_3dfidii5858-6633i4-ii398841',\n",
       " 'pacs_aet': 'gepacs',\n",
       " 'pacs_name': 'GE PACS',\n",
       " 'patient_id': '1234578',\n",
       " 'patient_birth_date': '1976-05-23',\n",
       " 'patient_sex': 'M',\n",
       " 'study_instance_uid': '34343-34343-34343',\n",
       " 'accession_number': '345348389',\n",
       " 'study_description': 'CT of the Thorax',\n",
       " 'study_datetime': '2000-08-10T00:00:00+02:00',\n",
       " 'series_instance_uid': '34343-676556-3343',\n",
       " 'modalities_in_study': ['CT', 'PET'],\n",
       " 'sop_instance_uid': '35858-384834-3843',\n",
       " 'references': ['http://gepacs.com/34343-34343-34343'],\n",
       " 'body': 'This is the updated report',\n",
       " 'groups': [2],\n",
       " 'vespa': {'pathId': '/document/v1/report/report/docid/gepacs_3dfidii5858-6633i4-ii398841',\n",
       "  'id': 'id:report:report::gepacs_3dfidii5858-6633i4-ii398841',\n",
       "  'fields': {'pacs_name': 'GE PACS',\n",
       "   'modalities_in_study': ['CT', 'PET'],\n",
       "   'patient_birth_date': 201657600,\n",
       "   'body': 'This is the updated report',\n",
       "   'references': ['http://gepacs.com/34343-34343-34343'],\n",
       "   'patient_sex': 'M',\n",
       "   'study_description': 'CT of the Thorax',\n",
       "   'groups': [2],\n",
       "   'pacs_aet': 'gepacs',\n",
       "   'study_datetime': 965858400}}}"
      ]
     },
     "execution_count": 3,
     "metadata": {},
     "output_type": "execute_result"
    }
   ],
   "source": [
    "response = requests.get(\n",
    "    base_url + f\"reports/{document_id}\", headers={\"Authorization\": f\"Token {auth_token}\"}\n",
    ")\n",
    "\n",
    "response.json()"
   ]
  },
  {
   "cell_type": "code",
   "execution_count": 4,
   "metadata": {},
   "outputs": [
    {
     "name": "stdout",
     "output_type": "stream",
     "text": [
      "<Response [204]>\n"
     ]
    }
   ],
   "source": [
    "response = requests.delete(\n",
    "    base_url + f\"reports/{document_id}\", headers={\"Authorization\": f\"Token {auth_token}\"}\n",
    ")\n",
    "print(response)"
   ]
  }
 ],
 "metadata": {
  "kernelspec": {
   "display_name": ".venv",
   "language": "python",
   "name": "python3"
  },
  "language_info": {
   "codemirror_mode": {
    "name": "ipython",
    "version": 3
   },
   "file_extension": ".py",
   "mimetype": "text/x-python",
   "name": "python",
   "nbconvert_exporter": "python",
   "pygments_lexer": "ipython3",
   "version": "3.12.1"
  },
  "orig_nbformat": 4
 },
 "nbformat": 4,
 "nbformat_minor": 2
}
