{
 "cells": [
  {
   "cell_type": "code",
   "execution_count": 14,
   "metadata": {},
   "outputs": [
    {
     "name": "stdout",
     "output_type": "stream",
     "text": [
      "Status Code: 201\n",
      "{'id': 7, 'document_id': 'gepacs_3dfidii5858-6633i4-ii398841', 'pacs_aet': 'gepacs', 'pacs_name': 'GE PACS', 'patient_id': '1234578', 'patient_birth_date': '1976-05-23', 'patient_sex': 'M', 'study_instance_uid': '34343-34343-34343', 'accession_number': '345348389', 'study_description': 'CT of the Thorax', 'study_datetime': '2000-08-10T00:00:00+02:00', 'series_instance_uid': '34343-676556-3343', 'modalities_in_study': ['CT', 'PET'], 'sop_instance_uid': '35858-384834-3843', 'references': ['http://gepacs.com/34343-34343-34343'], 'body': 'This is the report', 'institutes': [2]}\n"
     ]
    }
   ],
   "source": [
    "import requests\n",
    "from datetime import date, datetime\n",
    "\n",
    "base_url = \"http://localhost:8000/api/\"\n",
    "\n",
    "data = {\n",
    "    \"document_id\": \"gepacs_3dfidii5858-6633i4-ii398841\",\n",
    "    \"institutes\": [2],\n",
    "    \"pacs_aet\": \"gepacs\",\n",
    "    \"pacs_name\": \"GE PACS\",\n",
    "    \"patient_id\": \"1234578\",\n",
    "    \"patient_birth_date\": date(1976, 5, 23).isoformat(),\n",
    "    \"patient_sex\": \"M\",\n",
    "    \"study_instance_uid\": \"34343-34343-34343\",\n",
    "    \"accession_number\": \"345348389\",\n",
    "    \"study_description\": \"CT of the Thorax\",\n",
    "    \"study_datetime\": datetime(2000, 8, 10).isoformat(),\n",
    "    \"series_instance_uid\": \"34343-676556-3343\",\n",
    "    \"modalities_in_study\": [\"CT\", \"PET\"],\n",
    "    \"sop_instance_uid\": \"35858-384834-3843\",\n",
    "    \"references\": [\"http://gepacs.com/34343-34343-34343\"],\n",
    "    \"body\": \"This is the report\"\n",
    "}\n",
    "\n",
    "auth_token = \"f2e7412ca332a85e37f3fce88c6a1904fe35ad63\"\n",
    "# response = requests.post(base_url + \"reports/\", json=data, headers={\"Authorization\": f\"Token {auth_token}\"})\n",
    "response = requests.post(base_url + \"reports/\", json=data)\n",
    "\n",
    "print(f\"Status Code: {response.status_code}\")\n",
    "print(response.json())\n",
    "\n",
    "# document_id = response.json()[\"id\"]\n"
   ]
  },
  {
   "cell_type": "code",
   "execution_count": 5,
   "metadata": {},
   "outputs": [
    {
     "data": {
      "text/plain": [
       "{'pathId': '/document/v1/report/report/docid/gepacs_35858-384834-3843',\n",
       " 'id': 'id:report:report::gepacs_35858-384834-3843',\n",
       " 'fields': {'pacs_name': 'GE PACS',\n",
       "  'modalities_in_study': ['CT', 'PET'],\n",
       "  'patient_id': '1234578',\n",
       "  'patient_birth_date': 201657600,\n",
       "  'body': 'This is the report',\n",
       "  'references': ['http://gepacs.com/34343-34343-34343'],\n",
       "  'sop_instance_uid': '35858-384834-3843',\n",
       "  'patient_sex': 'M',\n",
       "  'study_description': 'CT of the Thorax',\n",
       "  'study_instance_uid': '34343-34343-34343',\n",
       "  'accession_number': '345348389',\n",
       "  'series_instance_uid': '34343-676556-3343',\n",
       "  'pacs_aet': 'gepacs',\n",
       "  'institutes': ['Neuroradiologie'],\n",
       "  'study_datetime': 965858400}}"
      ]
     },
     "execution_count": 5,
     "metadata": {},
     "output_type": "execute_result"
    }
   ],
   "source": [
    "response = requests.get(base_url + f\"reports/{document_id}\", headers={\"Authorization\": f\"Token {auth_token}\"})\n",
    "\n",
    "response.json()"
   ]
  }
 ],
 "metadata": {
  "kernelspec": {
   "display_name": ".venv",
   "language": "python",
   "name": "python3"
  },
  "language_info": {
   "codemirror_mode": {
    "name": "ipython",
    "version": 3
   },
   "file_extension": ".py",
   "mimetype": "text/x-python",
   "name": "python",
   "nbconvert_exporter": "python",
   "pygments_lexer": "ipython3",
   "version": "3.11.1"
  },
  "orig_nbformat": 4
 },
 "nbformat": 4,
 "nbformat_minor": 2
}
