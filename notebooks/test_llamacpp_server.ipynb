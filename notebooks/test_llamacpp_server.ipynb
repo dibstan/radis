{
 "cells": [
  {
   "cell_type": "code",
   "execution_count": null,
   "metadata": {},
   "outputs": [],
   "source": [
    "from openai import OpenAI\n",
    "\n",
    "client = OpenAI(base_url=\"http://localhost:8090/v1\", api_key=\"unnecessary for llama.cpp server\")\n",
    "\n",
    "grammar = \"\"\"\n",
    "    root ::= Answer\n",
    "    Answer ::= \"Yes\" | \"No\" | \"Unsure\"\n",
    "\"\"\"\n",
    "\n",
    "completion = client.chat.completions.create(\n",
    "    model=\"unnecessary for llama.cpp server\",\n",
    "    messages=[\n",
    "        {\n",
    "            \"role\": \"system\",\n",
    "            \"content\": \"\"\"\n",
    "                You are a radiology expert doctor. You will be given a radiology report.\n",
    "                You will also be given a question about the report. Answer the\n",
    "                question with just the \"Yes\", \"No\" or \"Unsure\".\n",
    "            \"\"\",\n",
    "        },\n",
    "        {\n",
    "            \"role\": \"user\",\n",
    "            \"content\": \"\"\"\n",
    "            Report:\n",
    "            The patient has a suspected cardiac problem and no pulmonary embolism.\n",
    "\n",
    "            Question:\n",
    "            Does the patient have a pulmonary embolism?\n",
    "\n",
    "            Answer:\n",
    "            \"\"\",\n",
    "        },\n",
    "    ],\n",
    "    extra_body={\"grammar\": grammar},\n",
    ")\n",
    "\n",
    "print(completion.choices[0].message)"
   ]
  }
 ],
 "metadata": {
  "kernelspec": {
   "display_name": ".venv",
   "language": "python",
   "name": "python3"
  },
  "language_info": {
   "codemirror_mode": {
    "name": "ipython",
    "version": 3
   },
   "file_extension": ".py",
   "mimetype": "text/x-python",
   "name": "python",
   "nbconvert_exporter": "python",
   "pygments_lexer": "ipython3",
   "version": "3.12.1"
  }
 },
 "nbformat": 4,
 "nbformat_minor": 2
}
