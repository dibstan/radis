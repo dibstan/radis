{
 "cells": [
  {
   "cell_type": "code",
   "execution_count": null,
   "metadata": {},
   "outputs": [],
   "source": [
    "# Generate reports\n",
    "\n",
    "import os\n",
    "\n",
    "from dotenv import dotenv_values\n",
    "\n",
    "from radis.core.utils.report_generator import ReportGenerator\n",
    "\n",
    "config = {\n",
    "    **dotenv_values(\"../.env.dev\"),\n",
    "    **os.environ,\n",
    "}\n",
    "\n",
    "api_key = config[\"OPENAI_API_KEY\"]\n",
    "\n",
    "generator = ReportGenerator(api_key, language=\"en\")\n",
    "\n",
    "reports = []\n",
    "for _ in range(100):\n",
    "    report = generator.generate_report()\n",
    "    reports.append(report)\n",
    "    generator.reset_context()\n",
    "\n",
    "reports"
   ]
  },
  {
   "cell_type": "code",
   "execution_count": null,
   "metadata": {},
   "outputs": [],
   "source": [
    "# Save reports to json file\n",
    "\n",
    "import json\n",
    "\n",
    "json_data = json.dumps(reports, indent=4)\n",
    "\n",
    "with open(\"../samples/reports_en.json\", \"w\") as outfile:\n",
    "    outfile.write(json_data)"
   ]
  }
 ],
 "metadata": {
  "kernelspec": {
   "display_name": ".venv",
   "language": "python",
   "name": "python3"
  },
  "language_info": {
   "codemirror_mode": {
    "name": "ipython",
    "version": 3
   },
   "file_extension": ".py",
   "mimetype": "text/x-python",
   "name": "python",
   "nbconvert_exporter": "python",
   "pygments_lexer": "ipython3",
   "version": "3.12.1"
  },
  "orig_nbformat": 4
 },
 "nbformat": 4,
 "nbformat_minor": 2
}
