{
 "cells": [
  {
   "cell_type": "code",
   "execution_count": 16,
   "metadata": {
    "metadata": {}
   },
   "outputs": [
    {
     "name": "stdout",
     "output_type": "stream",
     "text": [
      "{'cluster_name': 'docker-cluster', 'status': 'green', 'timed_out': False, 'number_of_nodes': 1, 'number_of_data_nodes': 1, 'discovered_master': True, 'discovered_cluster_manager': True, 'active_primary_shards': 4, 'active_shards': 4, 'relocating_shards': 0, 'initializing_shards': 0, 'unassigned_shards': 0, 'delayed_unassigned_shards': 0, 'number_of_pending_tasks': 0, 'number_of_in_flight_fetch': 0, 'task_max_waiting_in_queue_millis': 0, 'active_shards_percent_as_number': 100.0}\n"
     ]
    }
   ],
   "source": [
    "from opensearchpy import OpenSearch\n",
    "\n",
    "client = OpenSearch(\n",
    "    hosts=[{\"host\": \"localhost\", \"port\": 9200}],\n",
    "    http_compress=True,\n",
    "    use_ssl=False,\n",
    "    verify_certs=False,\n",
    "    ssl_assert_hostname=False,\n",
    "    ssl_show_warn=False,\n",
    ")\n",
    "\n",
    "response = client.cluster.health()\n",
    "print(response)"
   ]
  },
  {
   "cell_type": "code",
   "execution_count": 12,
   "metadata": {
    "metadata": {}
   },
   "outputs": [
    {
     "data": {
      "text/plain": [
       "{'acknowledged': True, 'shards_acknowledged': True, 'index': 'foobar'}"
      ]
     },
     "execution_count": 12,
     "metadata": {},
     "output_type": "execute_result"
    }
   ],
   "source": [
    "client.indices.create(\n",
    "    index=\"foobar\",\n",
    "    body={\n",
    "        \"settings\": {\n",
    "            \"number_of_shards\": 1,\n",
    "            \"number_of_replicas\": 0,\n",
    "        },\n",
    "        \"mappings\": {\n",
    "            \"properties\": {\n",
    "                \"name\": {\"type\": \"keyword\"},\n",
    "            }\n",
    "        },\n",
    "    },\n",
    ")"
   ]
  },
  {
   "cell_type": "code",
   "execution_count": 17,
   "metadata": {
    "metadata": {}
   },
   "outputs": [
    {
     "data": {
      "text/plain": [
       "{'_index': 'foobar',\n",
       " '_id': 'xxy',\n",
       " '_version': 1,\n",
       " 'result': 'created',\n",
       " '_shards': {'total': 1, 'successful': 1, 'failed': 0},\n",
       " '_seq_no': 1,\n",
       " '_primary_term': 1}"
      ]
     },
     "execution_count": 17,
     "metadata": {},
     "output_type": "execute_result"
    }
   ],
   "source": [
    "client.create(\n",
    "    index=\"foobar\",\n",
    "    id=\"xxy\",\n",
    "    body={\"name\": \"M\"},\n",
    ")"
   ]
  },
  {
   "cell_type": "code",
   "execution_count": 19,
   "metadata": {
    "metadata": {}
   },
   "outputs": [
    {
     "data": {
      "text/plain": [
       "{'took': 2,\n",
       " 'timed_out': False,\n",
       " '_shards': {'total': 1, 'successful': 1, 'skipped': 0, 'failed': 0},\n",
       " 'hits': {'total': {'value': 1, 'relation': 'eq'},\n",
       "  'max_score': 0.6931471,\n",
       "  'hits': [{'_index': 'foobar',\n",
       "    '_id': 'xxy',\n",
       "    '_score': 0.6931471,\n",
       "    '_source': {'name': 'M'}}]}}"
      ]
     },
     "execution_count": 19,
     "metadata": {},
     "output_type": "execute_result"
    }
   ],
   "source": [
    "client.search(\n",
    "    index=\"foobar\",\n",
    "    body={\n",
    "        \"query\": {\"term\": {\"name\": \"M\"}},\n",
    "    },\n",
    ")"
   ]
  },
  {
   "cell_type": "code",
   "execution_count": 4,
   "metadata": {
    "metadata": {}
   },
   "outputs": [
    {
     "data": {
      "text/plain": [
       "{'took': 3,\n",
       " 'timed_out': False,\n",
       " '_shards': {'total': 1, 'successful': 1, 'skipped': 0, 'failed': 0},\n",
       " 'hits': {'total': {'value': 1000, 'relation': 'eq'},\n",
       "  'max_score': 1.0,\n",
       "  'hits': [{'_index': 'reports_de',\n",
       "    '_id': '67fcf8e9-4130-4785-b6e1-4cfdeafb7bfb',\n",
       "    '_score': 1.0,\n",
       "    '_source': {'document_id': '67fcf8e9-4130-4785-b6e1-4cfdeafb7bfb',\n",
       "     'language': 'de',\n",
       "     'groups': [1],\n",
       "     'pacs_aet': 'from',\n",
       "     'pacs_name': 'weight',\n",
       "     'pacs_link': 'https://www.chen.com/',\n",
       "     'patient_birth_date': '1943-04-18',\n",
       "     'patient_age': 75,\n",
       "     'patient_sex': 'M',\n",
       "     'study_description': 'Action more cover last subject strong author.',\n",
       "     'study_datetime': '2018-09-29T03:49:43.387917+00:00',\n",
       "     'modalities': ['DX']}}]}}"
      ]
     },
     "execution_count": 4,
     "metadata": {},
     "output_type": "execute_result"
    }
   ],
   "source": [
    "client.search(\n",
    "    index=\"reports_de\",\n",
    "    body={\n",
    "        \"size\": 1,\n",
    "    },\n",
    ")"
   ]
  },
  {
   "cell_type": "code",
   "execution_count": 8,
   "metadata": {
    "metadata": {}
   },
   "outputs": [
    {
     "data": {
      "text/plain": [
       "{'took': 7,\n",
       " 'timed_out': False,\n",
       " '_shards': {'total': 1, 'successful': 1, 'skipped': 0, 'failed': 0},\n",
       " 'hits': {'total': {'value': 602, 'relation': 'eq'},\n",
       "  'max_score': 1.0,\n",
       "  'hits': [{'_index': 'reports_de',\n",
       "    '_id': '1434d5d3-7922-4a8d-9ed6-59a1ec648af5',\n",
       "    '_score': 1.0,\n",
       "    '_source': {'document_id': '1434d5d3-7922-4a8d-9ed6-59a1ec648af5',\n",
       "     'language': 'de',\n",
       "     'groups': [1],\n",
       "     'pacs_aet': 'usually',\n",
       "     'pacs_name': 'herself',\n",
       "     'pacs_link': 'https://murray-estes.com/',\n",
       "     'patient_birth_date': '1976-11-27',\n",
       "     'patient_age': 46,\n",
       "     'patient_sex': 'F',\n",
       "     'study_description': 'Ready fight enough Congress. East indicate thing evening.',\n",
       "     'study_datetime': '2022-12-01T16:16:24.337426+00:00',\n",
       "     'modalities': ['CT', 'MR', 'DX']}},\n",
       "   {'_index': 'reports_de',\n",
       "    '_id': 'a1769580-14b9-44a8-a484-e75975ab3d12',\n",
       "    '_score': 1.0,\n",
       "    '_source': {'document_id': 'a1769580-14b9-44a8-a484-e75975ab3d12',\n",
       "     'language': 'de',\n",
       "     'groups': [1],\n",
       "     'pacs_aet': 'happy',\n",
       "     'pacs_name': 'option',\n",
       "     'pacs_link': 'http://johnston.org/',\n",
       "     'patient_birth_date': '1984-09-05',\n",
       "     'patient_age': 37,\n",
       "     'patient_sex': 'F',\n",
       "     'study_description': 'Fight garden soldier. Else sit more million.',\n",
       "     'study_datetime': '2022-02-01T01:53:31.903094+00:00',\n",
       "     'modalities': ['PT', 'MR', 'CT', 'DX']}},\n",
       "   {'_index': 'reports_de',\n",
       "    '_id': 'b5b2cf5d-dd59-4819-9bde-c80d463938c6',\n",
       "    '_score': 1.0,\n",
       "    '_source': {'document_id': 'b5b2cf5d-dd59-4819-9bde-c80d463938c6',\n",
       "     'language': 'de',\n",
       "     'groups': [1],\n",
       "     'pacs_aet': 'training',\n",
       "     'pacs_name': 'reveal',\n",
       "     'pacs_link': 'http://flores-gillespie.com/',\n",
       "     'patient_birth_date': '1963-10-12',\n",
       "     'patient_age': 52,\n",
       "     'patient_sex': 'M',\n",
       "     'study_description': 'Decade cause dark pass job prove.',\n",
       "     'study_datetime': '2016-02-13T23:05:52.794842+00:00',\n",
       "     'modalities': ['CT', 'MR', 'PT', 'DX']}},\n",
       "   {'_index': 'reports_de',\n",
       "    '_id': '92fc41e2-b89d-4677-ba51-80a7f344406d',\n",
       "    '_score': 1.0,\n",
       "    '_source': {'document_id': '92fc41e2-b89d-4677-ba51-80a7f344406d',\n",
       "     'language': 'de',\n",
       "     'groups': [1],\n",
       "     'pacs_aet': 'green',\n",
       "     'pacs_name': 'after',\n",
       "     'pacs_link': 'https://collins.biz/',\n",
       "     'patient_birth_date': '1931-07-15',\n",
       "     'patient_age': 87,\n",
       "     'patient_sex': 'M',\n",
       "     'study_description': 'Conference pretty method according force.',\n",
       "     'study_datetime': '2018-12-24T15:26:26.676639+00:00',\n",
       "     'modalities': ['MR', 'DX', 'CT', 'PT']}},\n",
       "   {'_index': 'reports_de',\n",
       "    '_id': '7805839a-cf4b-4255-8866-0c6d3d0266c7',\n",
       "    '_score': 1.0,\n",
       "    '_source': {'document_id': '7805839a-cf4b-4255-8866-0c6d3d0266c7',\n",
       "     'language': 'de',\n",
       "     'groups': [1],\n",
       "     'pacs_aet': 'she',\n",
       "     'pacs_name': 'wish',\n",
       "     'pacs_link': 'http://www.perez.biz/',\n",
       "     'patient_birth_date': '1981-09-20',\n",
       "     'patient_age': 32,\n",
       "     'patient_sex': 'O',\n",
       "     'study_description': 'Positive dream live late these culture. Wish ability join.',\n",
       "     'study_datetime': '2014-05-19T08:46:17.799995+00:00',\n",
       "     'modalities': ['PT', 'US', 'CT', 'DX', 'MR']}},\n",
       "   {'_index': 'reports_de',\n",
       "    '_id': '888aeaf1-3423-4186-bb2b-6b756df76b81',\n",
       "    '_score': 1.0,\n",
       "    '_source': {'document_id': '888aeaf1-3423-4186-bb2b-6b756df76b81',\n",
       "     'language': 'de',\n",
       "     'groups': [1],\n",
       "     'pacs_aet': 'since',\n",
       "     'pacs_name': 'expert',\n",
       "     'pacs_link': 'https://petersen-ibarra.com/',\n",
       "     'patient_birth_date': '1945-02-23',\n",
       "     'patient_age': 76,\n",
       "     'patient_sex': 'F',\n",
       "     'study_description': 'Decision director which financial.',\n",
       "     'study_datetime': '2021-06-06T05:05:38.313901+00:00',\n",
       "     'modalities': ['CT', 'MR', 'US']}},\n",
       "   {'_index': 'reports_de',\n",
       "    '_id': '6bc52a7d-5531-496c-b673-3dce9397dfd8',\n",
       "    '_score': 1.0,\n",
       "    '_source': {'document_id': '6bc52a7d-5531-496c-b673-3dce9397dfd8',\n",
       "     'language': 'de',\n",
       "     'groups': [1],\n",
       "     'pacs_aet': 'them',\n",
       "     'pacs_name': 'western',\n",
       "     'pacs_link': 'http://www.schneider.com/',\n",
       "     'patient_birth_date': '1967-08-02',\n",
       "     'patient_age': 47,\n",
       "     'patient_sex': 'F',\n",
       "     'study_description': 'Indeed eye whatever feel. Win worker fire boy.',\n",
       "     'study_datetime': '2014-08-30T20:25:22.615429+00:00',\n",
       "     'modalities': ['MR', 'CT']}},\n",
       "   {'_index': 'reports_de',\n",
       "    '_id': 'f592207b-d49d-4d0f-b97a-08b7558d4cf5',\n",
       "    '_score': 1.0,\n",
       "    '_source': {'document_id': 'f592207b-d49d-4d0f-b97a-08b7558d4cf5',\n",
       "     'language': 'de',\n",
       "     'groups': [1],\n",
       "     'pacs_aet': 'red',\n",
       "     'pacs_name': 'conference',\n",
       "     'pacs_link': 'http://brown.com/',\n",
       "     'patient_birth_date': '1996-11-28',\n",
       "     'patient_age': 20,\n",
       "     'patient_sex': 'M',\n",
       "     'study_description': 'Camera health avoid force. Hit I nice mean president base.',\n",
       "     'study_datetime': '2017-11-04T20:52:49.710848+00:00',\n",
       "     'modalities': ['DX', 'CT', 'US']}},\n",
       "   {'_index': 'reports_de',\n",
       "    '_id': '735cbf7f-1bf4-422e-a2af-ee0ad6c7df9f',\n",
       "    '_score': 1.0,\n",
       "    '_source': {'document_id': '735cbf7f-1bf4-422e-a2af-ee0ad6c7df9f',\n",
       "     'language': 'de',\n",
       "     'groups': [1],\n",
       "     'pacs_aet': 'box',\n",
       "     'pacs_name': 'week',\n",
       "     'pacs_link': 'http://www.stephens.com/',\n",
       "     'patient_birth_date': '2007-12-31',\n",
       "     'patient_age': 14,\n",
       "     'patient_sex': 'F',\n",
       "     'study_description': 'Glass camera be role example. Daughter pay tax guy effort.',\n",
       "     'study_datetime': '2022-03-01T16:09:58.526566+00:00',\n",
       "     'modalities': ['MR', 'US', 'DX', 'CT']}},\n",
       "   {'_index': 'reports_de',\n",
       "    '_id': '29356bca-81a4-48a3-b608-3dcdbcce404f',\n",
       "    '_score': 1.0,\n",
       "    '_source': {'document_id': '29356bca-81a4-48a3-b608-3dcdbcce404f',\n",
       "     'language': 'de',\n",
       "     'groups': [1],\n",
       "     'pacs_aet': 'live',\n",
       "     'pacs_name': 'them',\n",
       "     'pacs_link': 'https://www.stokes.com/',\n",
       "     'patient_birth_date': '1927-04-19',\n",
       "     'patient_age': 93,\n",
       "     'patient_sex': 'M',\n",
       "     'study_description': 'Should light skill more here.',\n",
       "     'study_datetime': '2021-03-21T14:06:08.678567+00:00',\n",
       "     'modalities': ['PT', 'DX', 'US', 'CT']}}]}}"
      ]
     },
     "execution_count": 8,
     "metadata": {},
     "output_type": "execute_result"
    }
   ],
   "source": [
    "client.search(index=\"reports_de\", body={\"size\": 10, \"query\": {\"terms\": {\"modalities\": [\"ct\"]}}})"
   ]
  }
 ],
 "metadata": {
  "kernelspec": {
   "display_name": ".venv",
   "language": "python",
   "name": "python3"
  },
  "language_info": {
   "codemirror_mode": {
    "name": "ipython",
    "version": 3
   },
   "file_extension": ".py",
   "mimetype": "text/x-python",
   "name": "python",
   "nbconvert_exporter": "python",
   "pygments_lexer": "ipython3",
   "version": "3.12.3"
  }
 },
 "nbformat": 4,
 "nbformat_minor": 2
}
