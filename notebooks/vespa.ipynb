{
 "cells": [
  {
   "cell_type": "code",
   "execution_count": null,
   "metadata": {},
   "outputs": [],
   "source": [
    "from vespa.application import Vespa\n",
    "\n",
    "app = Vespa(\"http://localhost\", 8080)\n",
    "\n",
    "response = app.delete_data(schema=\"report\", data_id=\"abc\")\n",
    "response.get_status_code()"
   ]
  },
  {
   "cell_type": "code",
   "execution_count": null,
   "metadata": {},
   "outputs": [],
   "source": [
    "from datetime import datetime\n",
    "\n",
    "from vespa.application import Vespa\n",
    "\n",
    "app = Vespa(\"http://localhost\", 8080)\n",
    "\n",
    "response = app.feed_data_point(\n",
    "    schema=\"report\",\n",
    "    data_id=\"abc\",\n",
    "    fields={\n",
    "        \"groups\": [\"Allgemeinradiologie\"],\n",
    "        \"pacs_aet\": \"gepacs\",\n",
    "        \"pacs_name\": \"GE PACS\",\n",
    "        \"patient_id\": \"1234578\",\n",
    "        \"patient_birth_date\": int(datetime(1976, 1, 1).timestamp()),\n",
    "        \"patient_sex\": \"M\",\n",
    "        \"study_instance_uid\": \"34343-34343-34343\",\n",
    "        \"accession_number\": \"345348389\",\n",
    "        \"study_description\": \"CT of the Thorax\",\n",
    "        \"study_datetime\": int(datetime(2020, 8, 9).timestamp()),\n",
    "        \"series_instance_uid\": \"34343-676556-3343\",\n",
    "        \"modalities_in_study\": [\"CT\", \"PET\"],\n",
    "        \"sop_instance_uid\": \"35858-384834-3843\",\n",
    "        \"links\": [\"http://gepacs.com/34343-34343-34343\"],\n",
    "        \"body\": \"This is the report\",\n",
    "    },\n",
    ")\n",
    "response.get_json()"
   ]
  },
  {
   "cell_type": "code",
   "execution_count": null,
   "metadata": {},
   "outputs": [],
   "source": [
    "from vespa.application import Vespa\n",
    "\n",
    "app = Vespa(\"http://localhost\", 8080)\n",
    "response = app.get_data(schema=\"report\", data_id=\"abc\")\n",
    "response.get_json()"
   ]
  },
  {
   "cell_type": "code",
   "execution_count": null,
   "metadata": {},
   "outputs": [],
   "source": [
    "from requests import HTTPError\n",
    "from vespa.application import Vespa\n",
    "\n",
    "client = Vespa(\"http://localhost\", 8080)\n",
    "\n",
    "print(client.get_application_status())\n",
    "\n",
    "results = client.query({\"yql\": \"select * from sources * where true\", \"hits\": 2})\n",
    "\n",
    "print(results.number_documents_retrieved)\n",
    "\n",
    "results.json"
   ]
  },
  {
   "cell_type": "code",
   "execution_count": null,
   "metadata": {},
   "outputs": [],
   "source": [
    "from vespa.application import Vespa\n",
    "\n",
    "client = Vespa(\"http://localhost\", 8080)\n",
    "\n",
    "print(client.get_application_status())\n",
    "\n",
    "results = client.query(\n",
    "    body={\n",
    "        \"yql\": \"select * from report where userQuery()\",\n",
    "        \"query\": \"pain\",\n",
    "        \"type\": \"web\",\n",
    "        \"hits\": 10,\n",
    "    }\n",
    ")\n",
    "\n",
    "print(results.number_documents_retrieved)\n",
    "\n",
    "results.get_json()"
   ]
  },
  {
   "cell_type": "code",
   "execution_count": null,
   "metadata": {},
   "outputs": [],
   "source": [
    "from vespa.application import Vespa\n",
    "\n",
    "app = Vespa(\"http://localhost\", 8080)\n",
    "\n",
    "try:\n",
    "    document_id = \"9PWDzGsuANHCmLyYdeNn8i\"\n",
    "    response = app.get_data(schema=\"report\", data_id=document_id)\n",
    "except HTTPError as err:\n",
    "    print(err.response.status_code)\n",
    "    print(\"Document not found.\")\n",
    "\n",
    "response.get_json()"
   ]
  }
 ],
 "metadata": {
  "kernelspec": {
   "display_name": ".venv",
   "language": "python",
   "name": "python3"
  },
  "language_info": {
   "codemirror_mode": {
    "name": "ipython",
    "version": 3
   },
   "file_extension": ".py",
   "mimetype": "text/x-python",
   "name": "python",
   "nbconvert_exporter": "python",
   "pygments_lexer": "ipython3",
   "version": "3.11.1"
  },
  "orig_nbformat": 4
 },
 "nbformat": 4,
 "nbformat_minor": 2
}
