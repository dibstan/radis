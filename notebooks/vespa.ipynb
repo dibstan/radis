{
 "cells": [
  {
   "cell_type": "code",
   "execution_count": 34,
   "metadata": {},
   "outputs": [
    {
     "name": "stdout",
     "output_type": "stream",
     "text": [
      "Using plain http against endpoint http://localhost:9620/ApplicationStatus\n"
     ]
    },
    {
     "data": {
      "text/plain": [
       "200"
      ]
     },
     "execution_count": 34,
     "metadata": {},
     "output_type": "execute_result"
    }
   ],
   "source": [
    "from vespa.application import Vespa\n",
    "\n",
    "client = Vespa(\"http://localhost\", 9620)\n",
    "\n",
    "response = client.get_application_status()\n",
    "\n",
    "# response.json()\n",
    "response.status_code"
   ]
  },
  {
   "cell_type": "code",
   "execution_count": 35,
   "metadata": {},
   "outputs": [
    {
     "data": {
      "text/plain": [
       "200"
      ]
     },
     "metadata": {},
     "output_type": "display_data"
    },
    {
     "data": {
      "text/plain": [
       "{'pathId': '/document/v1/report/report/docid/abc',\n",
       " 'id': 'id:report:report::abc'}"
      ]
     },
     "metadata": {},
     "output_type": "display_data"
    }
   ],
   "source": [
    "# Create a report document\n",
    "\n",
    "from datetime import datetime\n",
    "\n",
    "from vespa.application import Vespa\n",
    "\n",
    "response = client.feed_data_point(\n",
    "    schema=\"report\",\n",
    "    data_id=\"abc\",\n",
    "    fields={\n",
    "        \"language\": \"en\",\n",
    "        \"groups\": [1],\n",
    "        \"pacs_aet\": \"gepacs\",\n",
    "        \"pacs_name\": \"GE PACS\",\n",
    "        \"patient_birth_date\": int(datetime(1976, 1, 1).timestamp()),\n",
    "        \"patient_sex\": \"M\",\n",
    "        \"study_description\": \"CT of the Thorax\",\n",
    "        \"study_datetime\": int(datetime(2020, 8, 9).timestamp()),\n",
    "        \"modalities\": [\"CT\", \"PET\"],\n",
    "        \"links\": [\"http://gepacs.com/34343-34343-34343\"],\n",
    "        \"body\": \"This is the report\",\n",
    "    },\n",
    ")\n",
    "\n",
    "display(response.status_code, response.get_json())"
   ]
  },
  {
   "cell_type": "code",
   "execution_count": 36,
   "metadata": {},
   "outputs": [
    {
     "data": {
      "text/plain": [
       "200"
      ]
     },
     "metadata": {},
     "output_type": "display_data"
    },
    {
     "data": {
      "text/plain": [
       "{'pathId': '/document/v1/report/report/docid/abc',\n",
       " 'id': 'id:report:report::abc',\n",
       " 'fields': {'pacs_name': 'GE PACS',\n",
       "  'modalities': ['CT', 'PET'],\n",
       "  'language': 'en',\n",
       "  'patient_birth_date': 189302400,\n",
       "  'body': 'This is the report',\n",
       "  'patient_sex': 'M',\n",
       "  'study_description': 'CT of the Thorax',\n",
       "  'groups': [1],\n",
       "  'links': ['http://gepacs.com/34343-34343-34343'],\n",
       "  'pacs_aet': 'gepacs',\n",
       "  'study_datetime': 1596931200}}"
      ]
     },
     "metadata": {},
     "output_type": "display_data"
    }
   ],
   "source": [
    "# Retrieve report document\n",
    "\n",
    "from vespa.application import Vespa\n",
    "\n",
    "response = client.get_data(schema=\"report\", data_id=\"abc\")\n",
    "\n",
    "display(response.status_code, response.get_json())"
   ]
  },
  {
   "cell_type": "code",
   "execution_count": 37,
   "metadata": {},
   "outputs": [
    {
     "name": "stdout",
     "output_type": "stream",
     "text": [
      "101 documents found\n"
     ]
    },
    {
     "data": {
      "text/plain": [
       "200"
      ]
     },
     "metadata": {},
     "output_type": "display_data"
    },
    {
     "data": {
      "text/plain": [
       "{'root': {'id': 'toplevel',\n",
       "  'relevance': 1.0,\n",
       "  'fields': {'totalCount': 101},\n",
       "  'coverage': {'coverage': 100,\n",
       "   'documents': 101,\n",
       "   'full': True,\n",
       "   'nodes': 1,\n",
       "   'results': 1,\n",
       "   'resultsFull': 1},\n",
       "  'children': [{'id': 'id:report:report::bfc5f631-3e23-45b5-a50d-ea526c2029c2',\n",
       "    'relevance': 0.0,\n",
       "    'source': 'radis_content',\n",
       "    'fields': {'sddocname': 'report',\n",
       "     'body': 'Radiologischer Befund:\\n\\nUntersuchungsmethode: MRT der Lendenwirbelsäule\\n\\nBefund:\\n- Die Bandscheiben L4/L5 und L5/S1 sind leicht degenerativ verändert mit geringen Höhenminderungen und Anzeichen für beginnende<em>...</em>',\n",
       "     'documentid': 'id:report:report::bfc5f631-3e23-45b5-a50d-ea526c2029c2',\n",
       "     'document_id': 'bfc5f631-3e23-45b5-a50d-ea526c2029c2',\n",
       "     'pacs_name': 'account',\n",
       "     'patient_birth_date': -1828396800,\n",
       "     'patient_age': 111,\n",
       "     'patient_sex': 'U',\n",
       "     'study_description': 'When coach hot yourself while.',\n",
       "     'study_datetime': 1701949979,\n",
       "     'modalities': ['PT', 'DX'],\n",
       "     'links': ['http://www.stephens.biz/',\n",
       "      'http://www.benton.net/',\n",
       "      'http://key.com/']}},\n",
       "   {'id': 'id:report:report::a90ef533-d38a-4472-8abf-66f3bba23315',\n",
       "    'relevance': 0.0,\n",
       "    'source': 'radis_content',\n",
       "    'fields': {'sddocname': 'report',\n",
       "     'body': 'Befund:\\n\\nIm Röntgenbild des Thorax zeigt sich eine diskrete Verdichtung im rechten oberen Lungenlappen, die eine leichte Verschattung verursacht. Insgesamt erscheinen die Lungenfelder frei von größeren Infiltraten<em>...</em>',\n",
       "     'documentid': 'id:report:report::a90ef533-d38a-4472-8abf-66f3bba23315',\n",
       "     'document_id': 'a90ef533-d38a-4472-8abf-66f3bba23315',\n",
       "     'pacs_name': 'source',\n",
       "     'patient_birth_date': -663033600,\n",
       "     'patient_age': 71,\n",
       "     'patient_sex': 'U',\n",
       "     'study_description': 'Own structure production people you black plant.',\n",
       "     'study_datetime': 1603063196,\n",
       "     'modalities': ['DX', 'US', 'MR', 'CT'],\n",
       "     'links': ['http://ellis-burnett.com/',\n",
       "      'https://www.chen-steele.com/',\n",
       "      'http://bradley.info/']}},\n",
       "   {'id': 'id:report:report::2a079645-7756-4385-aedf-857b191d9936',\n",
       "    'relevance': 0.0,\n",
       "    'source': 'radis_content',\n",
       "    'fields': {'sddocname': 'report',\n",
       "     'body': 'Befund:\\n\\nIm konventionellen Röntgenbild des rechten Knies zeigt sich eine vermehrte Gelenkflüssigkeit ohne Anzeichen einer akuten Gelenkergussbildung. Es finden sich ebenfalls degenerative<em>...</em>',\n",
       "     'documentid': 'id:report:report::2a079645-7756-4385-aedf-857b191d9936',\n",
       "     'document_id': '2a079645-7756-4385-aedf-857b191d9936',\n",
       "     'pacs_name': 'list',\n",
       "     'patient_birth_date': -1699056000,\n",
       "     'patient_age': 98,\n",
       "     'patient_sex': 'F',\n",
       "     'study_description': 'Institution cup account term. Behind window person one pull.',\n",
       "     'study_datetime': 1395509610,\n",
       "     'modalities': ['PT', 'MR', 'CT'],\n",
       "     'links': ['https://www.strickland.net/', 'http://little.org/']}}]}}"
      ]
     },
     "metadata": {},
     "output_type": "display_data"
    }
   ],
   "source": [
    "# Example minimal query\n",
    "\n",
    "from vespa.application import Vespa\n",
    "\n",
    "response = client.query({\"yql\": \"select * from sources * where true\", \"hits\": 3})\n",
    "\n",
    "print(f\"{response.number_documents_retrieved} documents found\")\n",
    "\n",
    "display(response.status_code, response.get_json())"
   ]
  },
  {
   "cell_type": "code",
   "execution_count": 38,
   "metadata": {},
   "outputs": [
    {
     "name": "stdout",
     "output_type": "stream",
     "text": [
      "101 documents found\n"
     ]
    },
    {
     "data": {
      "text/plain": [
       "200"
      ]
     },
     "metadata": {},
     "output_type": "display_data"
    },
    {
     "data": {
      "text/plain": [
       "{'root': {'id': 'toplevel',\n",
       "  'relevance': 1.0,\n",
       "  'fields': {'totalCount': 12},\n",
       "  'coverage': {'coverage': 100,\n",
       "   'documents': 101,\n",
       "   'full': True,\n",
       "   'nodes': 1,\n",
       "   'results': 1,\n",
       "   'resultsFull': 1},\n",
       "  'children': [{'id': 'id:report:report::4b854857-51a3-4a07-b5a7-2344f068d08e',\n",
       "    'relevance': 0.18596853237833702,\n",
       "    'source': 'radis_content',\n",
       "    'fields': {'sddocname': 'report',\n",
       "     'body': '**Befund:**\\n\\n**Klinik:**\\nDer Patient stellt sich mit <strong>Schmerzen</strong> im Bereich des rechten Knies vor. Der <strong>Schmerz</strong><em>...</em>',\n",
       "     'documentid': 'id:report:report::4b854857-51a3-4a07-b5a7-2344f068d08e',\n",
       "     'document_id': '4b854857-51a3-4a07-b5a7-2344f068d08e',\n",
       "     'pacs_name': 'different',\n",
       "     'patient_birth_date': -269568000,\n",
       "     'patient_age': 56,\n",
       "     'patient_sex': 'F',\n",
       "     'study_description': 'He operation yes road better lawyer between.',\n",
       "     'study_datetime': 1526499170,\n",
       "     'modalities': ['PT', 'DX', 'US', 'MR', 'CT'],\n",
       "     'links': ['https://www.arnold.com/', 'http://gonzalez.net/']}},\n",
       "   {'id': 'id:report:report::2e385147-714e-4c64-9f8a-5d40b51add93',\n",
       "    'relevance': 0.18217876018208812,\n",
       "    'source': 'radis_content',\n",
       "    'fields': {'sddocname': 'report',\n",
       "     'body': '<em>...</em>Untersuchung: MRT des rechten Knies\\n\\nIndikation: <strong>Schmerzen</strong> und Schwellung im rechten Knie\\n\\nBefund: Im<em>...</em>',\n",
       "     'documentid': 'id:report:report::2e385147-714e-4c64-9f8a-5d40b51add93',\n",
       "     'document_id': '2e385147-714e-4c64-9f8a-5d40b51add93',\n",
       "     'pacs_name': 'fear',\n",
       "     'patient_birth_date': -431827200,\n",
       "     'patient_age': 62,\n",
       "     'patient_sex': 'U',\n",
       "     'study_description': 'Buy happy carry scientist water side.',\n",
       "     'study_datetime': 1542792903,\n",
       "     'modalities': ['PT', 'DX', 'MR', 'CT'],\n",
       "     'links': ['http://www.steele.info/', 'http://herman.com/']}},\n",
       "   {'id': 'id:report:report::699346df-f98c-447a-838d-40b8d2686536',\n",
       "    'relevance': 0.16790003345860666,\n",
       "    'source': 'radis_content',\n",
       "    'fields': {'sddocname': 'report',\n",
       "     'body': '<em>...</em> des rechten Knies\\n\\nIndikation:\\nUnklare <strong>Schmerzen</strong> im rechten Kniegelenk\\n\\nTechnik:\\nMRT-Sequenzen<em>...</em>',\n",
       "     'documentid': 'id:report:report::699346df-f98c-447a-838d-40b8d2686536',\n",
       "     'document_id': '699346df-f98c-447a-838d-40b8d2686536',\n",
       "     'pacs_name': 'work',\n",
       "     'patient_birth_date': -714355200,\n",
       "     'patient_age': 73,\n",
       "     'patient_sex': 'M',\n",
       "     'study_description': 'Political professor factor front least glass arm.',\n",
       "     'study_datetime': 1620337296,\n",
       "     'modalities': ['PT', 'DX', 'MR', 'CT'],\n",
       "     'links': ['http://www.sweeney.com/',\n",
       "      'http://cain.com/',\n",
       "      'http://house.com/']}}]}}"
      ]
     },
     "metadata": {},
     "output_type": "display_data"
    }
   ],
   "source": [
    "# Example user query\n",
    "\n",
    "from vespa.application import Vespa\n",
    "\n",
    "results = client.query(\n",
    "    body={\n",
    "        \"yql\": \"select * from report where userQuery()\",\n",
    "        \"query\": \"Schmerz\",\n",
    "        \"type\": \"web\",\n",
    "        \"hits\": 3,\n",
    "    }\n",
    ")\n",
    "\n",
    "print(f\"{response.number_documents_retrieved} documents found\")\n",
    "\n",
    "display(results.status_code, results.get_json())"
   ]
  },
  {
   "cell_type": "code",
   "execution_count": 39,
   "metadata": {},
   "outputs": [
    {
     "data": {
      "text/plain": [
       "200"
      ]
     },
     "metadata": {},
     "output_type": "display_data"
    },
    {
     "data": {
      "text/plain": [
       "{'pathId': '/document/v1/report/report/docid/abc',\n",
       " 'id': 'id:report:report::abc'}"
      ]
     },
     "metadata": {},
     "output_type": "display_data"
    }
   ],
   "source": [
    "# Delete report in Vespa\n",
    "\n",
    "response = client.delete_data(schema=\"report\", data_id=\"abc\")\n",
    "\n",
    "display(response.status_code, response.get_json())"
   ]
  }
 ],
 "metadata": {
  "kernelspec": {
   "display_name": ".venv",
   "language": "python",
   "name": "python3"
  },
  "language_info": {
   "codemirror_mode": {
    "name": "ipython",
    "version": 3
   },
   "file_extension": ".py",
   "mimetype": "text/x-python",
   "name": "python",
   "nbconvert_exporter": "python",
   "pygments_lexer": "ipython3",
   "version": "3.12.1"
  },
  "orig_nbformat": 4
 },
 "nbformat": 4,
 "nbformat_minor": 2
}
