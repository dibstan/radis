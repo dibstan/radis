{
 "cells": [
  {
   "cell_type": "code",
   "execution_count": 1,
   "metadata": {},
   "outputs": [
    {
     "name": "stdout",
     "output_type": "stream",
     "text": [
      "Using plain http against endpoint http://localhost:9620/ApplicationStatus\n"
     ]
    },
    {
     "data": {
      "text/plain": [
       "200"
      ]
     },
     "execution_count": 1,
     "metadata": {},
     "output_type": "execute_result"
    }
   ],
   "source": [
    "from vespa.application import Vespa\n",
    "\n",
    "client = Vespa(\"http://localhost\", 9620)\n",
    "\n",
    "response = client.get_application_status()\n",
    "\n",
    "# response.json()\n",
    "response.status_code"
   ]
  },
  {
   "cell_type": "code",
   "execution_count": 2,
   "metadata": {},
   "outputs": [
    {
     "data": {
      "text/plain": [
       "200"
      ]
     },
     "metadata": {},
     "output_type": "display_data"
    },
    {
     "data": {
      "text/plain": [
       "{'pathId': '/document/v1/report/report/docid/abc',\n",
       " 'id': 'id:report:report::abc'}"
      ]
     },
     "metadata": {},
     "output_type": "display_data"
    }
   ],
   "source": [
    "# Create a report document\n",
    "\n",
    "from datetime import datetime\n",
    "\n",
    "from vespa.application import Vespa\n",
    "\n",
    "response = client.feed_data_point(\n",
    "    schema=\"report\",\n",
    "    data_id=\"abc\",\n",
    "    fields={\n",
    "        \"language\": \"en\",\n",
    "        \"groups\": [1],\n",
    "        \"pacs_aet\": \"gepacs\",\n",
    "        \"pacs_name\": \"GE PACS\",\n",
    "        \"pacs_link\": \"http://gepacs.com/34343-34343-34343\",\n",
    "        \"patient_birth_date\": int(datetime(1976, 1, 1).timestamp()),\n",
    "        \"patient_sex\": \"M\",\n",
    "        \"study_description\": \"CT of the Thorax\",\n",
    "        \"study_datetime\": int(datetime(2020, 8, 9).timestamp()),\n",
    "        \"modalities\": [\"CT\", \"PET\"],\n",
    "        \"body\": \"This is the report\",\n",
    "    },\n",
    ")\n",
    "\n",
    "display(response.status_code, response.get_json())"
   ]
  },
  {
   "cell_type": "code",
   "execution_count": 3,
   "metadata": {},
   "outputs": [
    {
     "data": {
      "text/plain": [
       "200"
      ]
     },
     "metadata": {},
     "output_type": "display_data"
    },
    {
     "data": {
      "text/plain": [
       "{'pathId': '/document/v1/report/report/docid/abc',\n",
       " 'id': 'id:report:report::abc',\n",
       " 'fields': {'pacs_name': 'GE PACS',\n",
       "  'modalities': ['CT', 'PET'],\n",
       "  'language': 'en',\n",
       "  'pacs_link': 'http://gepacs.com/34343-34343-34343',\n",
       "  'patient_birth_date': 189302400,\n",
       "  'body': 'This is the report',\n",
       "  'patient_sex': 'M',\n",
       "  'study_description': 'CT of the Thorax',\n",
       "  'groups': [1],\n",
       "  'pacs_aet': 'gepacs',\n",
       "  'study_datetime': 1596931200}}"
      ]
     },
     "metadata": {},
     "output_type": "display_data"
    }
   ],
   "source": [
    "# Retrieve report document\n",
    "\n",
    "from vespa.application import Vespa\n",
    "\n",
    "response = client.get_data(schema=\"report\", data_id=\"abc\")\n",
    "\n",
    "display(response.status_code, response.get_json())"
   ]
  },
  {
   "cell_type": "code",
   "execution_count": 4,
   "metadata": {},
   "outputs": [
    {
     "name": "stdout",
     "output_type": "stream",
     "text": [
      "1001 documents found\n"
     ]
    },
    {
     "data": {
      "text/plain": [
       "200"
      ]
     },
     "metadata": {},
     "output_type": "display_data"
    },
    {
     "data": {
      "text/plain": [
       "{'root': {'id': 'toplevel',\n",
       "  'relevance': 1.0,\n",
       "  'fields': {'totalCount': 1001},\n",
       "  'coverage': {'coverage': 100,\n",
       "   'documents': 1001,\n",
       "   'full': True,\n",
       "   'nodes': 1,\n",
       "   'results': 1,\n",
       "   'resultsFull': 1},\n",
       "  'children': [{'id': 'id:report:report::afdc21d6-fbe7-47c4-b9c4-1dd83ea7ec5a',\n",
       "    'relevance': 0.0,\n",
       "    'source': 'radis_content',\n",
       "    'fields': {'sddocname': 'report',\n",
       "     'body': 'Befund:\\n\\nEs zeigt sich eine 5 cm große, gut abgegrenzte Weichteilmassse im rechten Oberarm, die homogen erscheint und keine Anzeichen für Knocheninfiltration aufweist. Es wird ein Lipom in Betracht gezogen. Keine<em>...</em>',\n",
       "     'documentid': 'id:report:report::afdc21d6-fbe7-47c4-b9c4-1dd83ea7ec5a',\n",
       "     'document_id': 'afdc21d6-fbe7-47c4-b9c4-1dd83ea7ec5a',\n",
       "     'pacs_name': 'office',\n",
       "     'pacs_link': 'http://www.moore-drake.com/',\n",
       "     'patient_birth_date': 252720000,\n",
       "     'patient_age': 39,\n",
       "     'patient_sex': 'M',\n",
       "     'study_description': 'Probably easy study sea cup.',\n",
       "     'study_datetime': 1503408139,\n",
       "     'modalities': ['DX', 'MR']}},\n",
       "   {'id': 'id:report:report::aa98e839-38f8-477e-bbb3-f5d4c213668e',\n",
       "    'relevance': 0.0,\n",
       "    'source': 'radis_content',\n",
       "    'fields': {'sddocname': 'report',\n",
       "     'body': 'Befund:\\n\\nIm CT des Thorax zeigt sich eine lobulär begrenzte Milchglasinfiltration im rechten Mittellappen mit zentraler Atelektase. Keine Pleuraergüsse oder Lymphknotenvergrößerungen feststellbar. Keine<em>...</em>',\n",
       "     'documentid': 'id:report:report::aa98e839-38f8-477e-bbb3-f5d4c213668e',\n",
       "     'document_id': 'aa98e839-38f8-477e-bbb3-f5d4c213668e',\n",
       "     'pacs_name': 'ground',\n",
       "     'pacs_link': 'https://morrison-spencer.com/',\n",
       "     'patient_birth_date': -235440000,\n",
       "     'patient_age': 56,\n",
       "     'patient_sex': 'O',\n",
       "     'study_description': 'Recent rich figure into success.',\n",
       "     'study_datetime': 1549325689,\n",
       "     'modalities': ['US', 'DX']}},\n",
       "   {'id': 'id:report:report::4f0a02fc-a576-4610-9168-50cbd16e7a48',\n",
       "    'relevance': 0.0,\n",
       "    'source': 'radis_content',\n",
       "    'fields': {'sddocname': 'report',\n",
       "     'body': 'Klinische Angaben: 45-jähriger männlicher Patient mit Schmerzen im rechten Knie nach einem Sturz.\\n\\nBefund: Im Röntgenbild des rechten Knies zeigt sich eine Fraktur des lateralen Tibiaplateaus. Es<em>...</em>',\n",
       "     'documentid': 'id:report:report::4f0a02fc-a576-4610-9168-50cbd16e7a48',\n",
       "     'document_id': '4f0a02fc-a576-4610-9168-50cbd16e7a48',\n",
       "     'pacs_name': 'thus',\n",
       "     'pacs_link': 'http://olson.com/',\n",
       "     'patient_birth_date': 287280000,\n",
       "     'patient_age': 36,\n",
       "     'patient_sex': 'M',\n",
       "     'study_description': 'Alone why the dog cause.',\n",
       "     'study_datetime': 1425050844,\n",
       "     'modalities': ['US', 'DX', 'PT', 'CT', 'MR']}}]}}"
      ]
     },
     "metadata": {},
     "output_type": "display_data"
    }
   ],
   "source": [
    "# Example minimal query\n",
    "\n",
    "from vespa.application import Vespa\n",
    "\n",
    "response = client.query({\"yql\": \"select * from sources * where true\", \"hits\": 3})\n",
    "\n",
    "print(f\"{response.number_documents_retrieved} documents found\")\n",
    "\n",
    "display(response.status_code, response.get_json())"
   ]
  },
  {
   "cell_type": "code",
   "execution_count": 5,
   "metadata": {},
   "outputs": [
    {
     "name": "stdout",
     "output_type": "stream",
     "text": [
      "1001 documents found\n"
     ]
    },
    {
     "data": {
      "text/plain": [
       "200"
      ]
     },
     "metadata": {},
     "output_type": "display_data"
    },
    {
     "data": {
      "text/plain": [
       "{'root': {'id': 'toplevel',\n",
       "  'relevance': 1.0,\n",
       "  'fields': {'totalCount': 52},\n",
       "  'coverage': {'coverage': 100,\n",
       "   'documents': 1001,\n",
       "   'full': True,\n",
       "   'nodes': 1,\n",
       "   'results': 1,\n",
       "   'resultsFull': 1},\n",
       "  'children': [{'id': 'id:report:report::44a12131-4a98-4129-b89f-05cf73ef9abd',\n",
       "    'relevance': 0.21702932012619996,\n",
       "    'source': 'radis_content',\n",
       "    'fields': {'sddocname': 'report',\n",
       "     'body': 'Befund:\\n\\nKlinische Fragestellung: <strong>Schmerzen</strong> im rechten Knie nach Trauma\\n\\nMRT des rechten<em>...</em>',\n",
       "     'documentid': 'id:report:report::44a12131-4a98-4129-b89f-05cf73ef9abd',\n",
       "     'document_id': '44a12131-4a98-4129-b89f-05cf73ef9abd',\n",
       "     'pacs_name': 'degree',\n",
       "     'pacs_link': 'https://white-bean.org/',\n",
       "     'patient_birth_date': -1636329600,\n",
       "     'patient_age': 102,\n",
       "     'patient_sex': 'M',\n",
       "     'study_description': 'Cause only join beautiful weight every choose effect.',\n",
       "     'study_datetime': 1601845584,\n",
       "     'modalities': ['US', 'CT']}},\n",
       "   {'id': 'id:report:report::7f2cd1b4-14ad-4142-b7a7-e029ddc66533',\n",
       "    'relevance': 0.19175745828761756,\n",
       "    'source': 'radis_content',\n",
       "    'fields': {'sddocname': 'report',\n",
       "     'body': '<em>...</em>Untersuchungsmethode: MRT des rechten Kniegelenks\\n\\nIndikation: <strong>Schmerzen</strong> und Schwellung im rechten Kniegelenk nach einem<em>...</em>',\n",
       "     'documentid': 'id:report:report::7f2cd1b4-14ad-4142-b7a7-e029ddc66533',\n",
       "     'document_id': '7f2cd1b4-14ad-4142-b7a7-e029ddc66533',\n",
       "     'pacs_name': 'black',\n",
       "     'pacs_link': 'http://holland-clarke.org/',\n",
       "     'patient_birth_date': 1016668800,\n",
       "     'patient_age': 16,\n",
       "     'patient_sex': 'O',\n",
       "     'study_description': 'Budget Mr song teacher oil.',\n",
       "     'study_datetime': 1534493714,\n",
       "     'modalities': ['US', 'DX', 'CT', 'MR']}},\n",
       "   {'id': 'id:report:report::fa02e300-8d80-4861-9aa5-42eed78e2484',\n",
       "    'relevance': 0.18217876018208812,\n",
       "    'source': 'radis_content',\n",
       "    'fields': {'sddocname': 'report',\n",
       "     'body': '<em>...</em>Klinischer Befund:\\n- Patient klagt über anhaltende <strong>Schmerzen</strong> im Bereich des rechten Knies\\n- Eingeschränkte Beweglichkeit<em>...</em>',\n",
       "     'documentid': 'id:report:report::fa02e300-8d80-4861-9aa5-42eed78e2484',\n",
       "     'document_id': 'fa02e300-8d80-4861-9aa5-42eed78e2484',\n",
       "     'pacs_name': 'now',\n",
       "     'pacs_link': 'http://kaiser.net/',\n",
       "     'patient_birth_date': -13910400,\n",
       "     'patient_age': 51,\n",
       "     'patient_sex': 'O',\n",
       "     'study_description': 'Speak leader state leg among.',\n",
       "     'study_datetime': 1619567817,\n",
       "     'modalities': ['US', 'DX', 'PT', 'CT', 'MR']}}]}}"
      ]
     },
     "metadata": {},
     "output_type": "display_data"
    }
   ],
   "source": [
    "# Example user query\n",
    "\n",
    "from vespa.application import Vespa\n",
    "\n",
    "results = client.query(\n",
    "    body={\n",
    "        \"yql\": \"select * from report where userQuery()\",\n",
    "        \"query\": \"Schmerz\",\n",
    "        \"type\": \"web\",\n",
    "        \"hits\": 3,\n",
    "    }\n",
    ")\n",
    "\n",
    "print(f\"{response.number_documents_retrieved} documents found\")\n",
    "\n",
    "display(results.status_code, results.get_json())"
   ]
  },
  {
   "cell_type": "code",
   "execution_count": 6,
   "metadata": {},
   "outputs": [
    {
     "data": {
      "text/plain": [
       "200"
      ]
     },
     "metadata": {},
     "output_type": "display_data"
    },
    {
     "data": {
      "text/plain": [
       "{'pathId': '/document/v1/report/report/docid/abc',\n",
       " 'id': 'id:report:report::abc'}"
      ]
     },
     "metadata": {},
     "output_type": "display_data"
    }
   ],
   "source": [
    "# Delete report in Vespa\n",
    "\n",
    "response = client.delete_data(schema=\"report\", data_id=\"abc\")\n",
    "\n",
    "display(response.status_code, response.get_json())"
   ]
  }
 ],
 "metadata": {
  "kernelspec": {
   "display_name": ".venv",
   "language": "python",
   "name": "python3"
  },
  "language_info": {
   "codemirror_mode": {
    "name": "ipython",
    "version": 3
   },
   "file_extension": ".py",
   "mimetype": "text/x-python",
   "name": "python",
   "nbconvert_exporter": "python",
   "pygments_lexer": "ipython3",
   "version": "3.12.2"
  },
  "orig_nbformat": 4
 },
 "nbformat": 4,
 "nbformat_minor": 2
}
